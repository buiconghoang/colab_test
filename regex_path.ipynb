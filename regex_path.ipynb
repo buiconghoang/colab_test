{
  "nbformat": 4,
  "nbformat_minor": 0,
  "metadata": {
    "colab": {
      "name": "regex_path",
      "provenance": [],
      "collapsed_sections": [],
      "authorship_tag": "ABX9TyOVHt7yOhzqxSU2EyFWVBZj",
      "include_colab_link": true
    },
    "kernelspec": {
      "name": "python3",
      "display_name": "Python 3"
    }
  },
  "cells": [
    {
      "cell_type": "markdown",
      "metadata": {
        "id": "view-in-github",
        "colab_type": "text"
      },
      "source": [
        "<a href=\"https://colab.research.google.com/github/buiconghoang/colab_test/blob/main/regex_path.ipynb\" target=\"_parent\"><img src=\"https://colab.research.google.com/assets/colab-badge.svg\" alt=\"Open In Colab\"/></a>"
      ]
    },
    {
      "cell_type": "code",
      "metadata": {
        "id": "REzQAsVjHXxp"
      },
      "source": [
        "import re"
      ],
      "execution_count": null,
      "outputs": []
    },
    {
      "cell_type": "code",
      "metadata": {
        "colab": {
          "base_uri": "https://localhost:8080/"
        },
        "id": "5xsm3U-qLwKe",
        "outputId": "51aa0bc3-b9a6-4ff6-ee81-e20c2a16786a"
      },
      "source": [
        "re.findall(r\"\\W\", \"This skirt is on 345 sale, only 12321 today!\")"
      ],
      "execution_count": null,
      "outputs": [
        {
          "output_type": "execute_result",
          "data": {
            "text/plain": [
              "[' ', ' ', ' ', ' ', ' ', ',', ' ', ' ', ' ', '!']"
            ]
          },
          "metadata": {
            "tags": []
          },
          "execution_count": 3
        }
      ]
    },
    {
      "cell_type": "code",
      "metadata": {
        "colab": {
          "base_uri": "https://localhost:8080/"
        },
        "id": "0axgdcCNOH7s",
        "outputId": "3c3a0879-37d9-4868-fbb9-791ee2aca803"
      },
      "source": [
        "my_string = \"John Smith: 34-78-69-042-980, Rebeca Smith: 10-10-10-434-425\"\n",
        "re.findall(r\"((?:\\d{2}-){3})(\\d{3}-\\d{3})\", my_string)"
      ],
      "execution_count": null,
      "outputs": [
        {
          "output_type": "execute_result",
          "data": {
            "text/plain": [
              "[('34-78-69-', '042-980'), ('10-10-10-', '434-425')]"
            ]
          },
          "metadata": {
            "tags": []
          },
          "execution_count": 4
        }
      ]
    },
    {
      "cell_type": "code",
      "metadata": {
        "colab": {
          "base_uri": "https://localhost:8080/"
        },
        "id": "FQNRwDhc9UJS",
        "outputId": "07c57162-335e-4642-c868-9ad54bda8af5"
      },
      "source": [
        "# tách chuổi bởi các kí tự không thể nằm trong 1 đường dẫn: \", |, ?, <, >, *\r\n",
        "def split_by_stop_character(pathstr):\r\n",
        "  pathstr = pathstr.strip()\r\n",
        "  stop_charcter_pattern = r\"[\\\"\\|\\*\\?><]\"\r\n",
        "  re.compile(stop_charcter_pattern)\r\n",
        "  results = []\r\n",
        "  for part in re.split(stop_charcter_pattern, pathstr):\r\n",
        "    if \"\\\\\" in part or '/' in part:\r\n",
        "      results.append(part.strip())\r\n",
        "  return results\r\n",
        "\r\n",
        "pathstr = ' move \"c:\\\\program file\\\\notepad \" -d -e \"D://test1\\\\test2 abc noise noise\" < | B:\\\\hello\\\\hi noise *&** noise ? noise noise /usr/local/bin noise noise '\r\n",
        "print(split_by_stop_character(pathstr))"
      ],
      "execution_count": null,
      "outputs": [
        {
          "output_type": "stream",
          "text": [
            "['c:\\\\program file\\\\notepad', 'D://test1\\\\test2 abc noise noise', 'B:\\\\hello\\\\hi noise', 'noise noise /usr/local/bin noise noise']\n"
          ],
          "name": "stdout"
        }
      ]
    },
    {
      "cell_type": "code",
      "metadata": {
        "colab": {
          "base_uri": "https://localhost:8080/"
        },
        "id": "vgi8V9tcdh0P",
        "outputId": "345f7e4a-6cde-4124-d357-1aa3f526fa9c"
      },
      "source": [
        "# tìm các đường dẫn mà bắt đầu là c:\\, abc:\\; (tên ổ đĩa sẽ được xác định bởi dấu cách gần nhất ** chỗ này cần xem xét)\r\n",
        "# trong chuỗi mà có nhiều đường dẫn thì sẽ lấy từ cuối lấy ra\r\n",
        "# vd: \"noise a:\\abc\\def bc:\\abc\\def noise noise d:\\dabc\\deff noise noise noise\"\r\n",
        "# kết quả trả ra sẽ là [\"a:\\abc\\def\", \"bc:\\abc\\def noise noise\", \"d:\\da bc\\deff noise noise noise\"]\r\n",
        "def split_path_by_window_prefix(pathstr):\r\n",
        "  pathstr = pathstr.strip()\r\n",
        "  prefix_window_pattern = r\"([^\\\\\\/><?:\\\"|*\\s]+:(\\\\+|\\/+))\" # c:/; D:/\r\n",
        "  re.compile(prefix_window_pattern)\r\n",
        "  idxes = []\r\n",
        "  raw_paths = set()\r\n",
        "  for m in re.finditer(prefix_window_pattern, pathstr):\r\n",
        "    start = m.start(0)\r\n",
        "    end = m.end(0)\r\n",
        "    idxes.append((start, end))\r\n",
        "    print(start, end, s[start:end])\r\n",
        "  \r\n",
        "  stop = len(pathstr)\r\n",
        "  for start, _ in idxes[::-1]:\r\n",
        "    raw_paths.add(pathstr[start:stop].strip())\r\n",
        "    stop = start\r\n",
        "  \r\n",
        "  #append from 0 to stop if start  0\r\n",
        "  if start > 0:\r\n",
        "    p = pathstr[0:stop]\r\n",
        "    if \"\\\\\" in p or '/' in p:\r\n",
        "      raw_paths.add(p) \r\n",
        "\r\n",
        "  return raw_paths\r\n",
        "\r\n",
        "\r\n",
        "\r\n",
        "s = \"noise a://abc//def    bc:\\\\abc\\\\def noise usr/local/bin noise   noise noise d:\\\\dabc\\\\deff noise noise noise   \"\r\n",
        "raw_paths = split_path_by_window_prefix(s)\r\n",
        "print(raw_paths)"
      ],
      "execution_count": null,
      "outputs": [
        {
          "output_type": "stream",
          "text": [
            "6 10 a://\n",
            "22 26 bc:\\\n",
            "74 77 d:\\\n",
            "{'a://abc//def', 'bc:\\\\abc\\\\def noise usr/local/bin noise   noise noise', 'd:\\\\dabc\\\\deff noise noise noise'}\n"
          ],
          "name": "stdout"
        }
      ]
    },
    {
      "cell_type": "code",
      "metadata": {
        "id": "5ZV1EsJRhE0Q",
        "colab": {
          "base_uri": "https://localhost:8080/"
        },
        "outputId": "9932b137-b3c2-47af-bbb0-ab94236ae856"
      },
      "source": [
        "import re\n",
        "sentences = [\"c:\\\\user hoang\\\\\\\\\\\\haha hah haha noise \", \" c:/program files/a -b -c/test -delete /user/a\\ b\\ c/dc ef -d -e\", \"mv home/hoang/test abc/xyz/test2\", \" noise /usr/local/a\\ -b\\ -c \"]\n",
        "\n",
        "#name = r\"[^\\\\\\/*><?:\\|]+\"\n",
        "#prefix_window = r\"([^\\\\\\/*><?:\\|]+:(\\\\+|\\/+))\" # c:/; D:/\n",
        "#slash = \"(\\\\+|/+)\"\n",
        "\n",
        "def extract_exact_path(pathstr):\n",
        "  pathstr = pathstr.strip()\n",
        "  pattern = r\"(([^\\\\\\/*><?:\\|]+:)?((\\\\+|/+)[^\\\\\\/*><?:\\|]+)+)\"\n",
        "  re.compile(pattern)\n",
        "  return re.findall(pattern, pathstr)\n",
        "\n",
        "\n",
        "for s in sentences:\n",
        "  print(extract_exact_path(s))"
      ],
      "execution_count": null,
      "outputs": [
        {
          "output_type": "stream",
          "text": [
            "[('c:\\\\user hoang\\\\\\\\\\\\haha hah haha noise', 'c:', '\\\\\\\\\\\\haha hah haha noise', '\\\\\\\\\\\\')]\n",
            "[('c:/program files/a -b -c/test -delete /user/a\\\\ b\\\\ c/dc ef -d -e', 'c:', '/dc ef -d -e', '/')]\n",
            "[('/hoang/test abc/xyz/test2', '', '/test2', '/')]\n",
            "[('/usr/local/a\\\\ -b\\\\ -c', '', '\\\\ -c', '\\\\')]\n"
          ],
          "name": "stdout"
        }
      ]
    },
    {
      "cell_type": "code",
      "metadata": {
        "id": "-pjq0dJ-iw16",
        "colab": {
          "base_uri": "https://localhost:8080/"
        },
        "outputId": "f20d8bbe-6bd7-4e8c-df74-a6788531fb80"
      },
      "source": [
        "part = \"c:\\program file\\notepad \"\r\n",
        "if \"\\\\\" in part or '/' in part:\r\n",
        "  print(\"ok\")"
      ],
      "execution_count": null,
      "outputs": [
        {
          "output_type": "stream",
          "text": [
            "ok\n"
          ],
          "name": "stdout"
        }
      ]
    },
    {
      "cell_type": "code",
      "metadata": {
        "colab": {
          "base_uri": "https://localhost:8080/"
        },
        "id": "9S10vwDFZKX1",
        "outputId": "e00e157f-45d4-42b0-f167-182618907d07"
      },
      "source": [
        "x = \"abc\\\\abc/abc\"\r\n",
        "if \"/\" in x:\r\n",
        "  print(\"ok\")"
      ],
      "execution_count": null,
      "outputs": [
        {
          "output_type": "stream",
          "text": [
            "ok\n"
          ],
          "name": "stdout"
        }
      ]
    },
    {
      "cell_type": "code",
      "metadata": {
        "id": "Y0cSowdo3A9L"
      },
      "source": [
        ""
      ],
      "execution_count": null,
      "outputs": []
    }
  ]
}